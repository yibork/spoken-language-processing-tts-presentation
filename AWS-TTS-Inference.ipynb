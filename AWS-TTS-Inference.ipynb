{
 "cells": [
  {
   "cell_type": "code",
   "execution_count": 1,
   "metadata": {},
   "outputs": [
    {
     "name": "stdout",
     "output_type": "stream",
     "text": [
      "Requirement already satisfied: boto3 in c:\\users\\yibor\\appdata\\local\\anaconda3\\envs\\myenv\\lib\\site-packages (1.35.29)\n",
      "Requirement already satisfied: botocore<1.36.0,>=1.35.29 in c:\\users\\yibor\\appdata\\local\\anaconda3\\envs\\myenv\\lib\\site-packages (from boto3) (1.35.29)\n",
      "Requirement already satisfied: jmespath<2.0.0,>=0.7.1 in c:\\users\\yibor\\appdata\\local\\anaconda3\\envs\\myenv\\lib\\site-packages (from boto3) (1.0.1)\n",
      "Requirement already satisfied: s3transfer<0.11.0,>=0.10.0 in c:\\users\\yibor\\appdata\\local\\anaconda3\\envs\\myenv\\lib\\site-packages (from boto3) (0.10.2)\n",
      "Requirement already satisfied: python-dateutil<3.0.0,>=2.1 in c:\\users\\yibor\\appdata\\local\\anaconda3\\envs\\myenv\\lib\\site-packages (from botocore<1.36.0,>=1.35.29->boto3) (2.9.0.post0)\n",
      "Requirement already satisfied: urllib3<1.27,>=1.25.4 in c:\\users\\yibor\\appdata\\local\\anaconda3\\envs\\myenv\\lib\\site-packages (from botocore<1.36.0,>=1.35.29->boto3) (1.26.20)\n",
      "Requirement already satisfied: six>=1.5 in c:\\users\\yibor\\appdata\\local\\anaconda3\\envs\\myenv\\lib\\site-packages (from python-dateutil<3.0.0,>=2.1->botocore<1.36.0,>=1.35.29->boto3) (1.16.0)\n",
      "Requirement already satisfied: awscli in c:\\users\\yibor\\appdata\\local\\anaconda3\\envs\\myenv\\lib\\site-packages (1.34.29)\n",
      "Requirement already satisfied: botocore==1.35.29 in c:\\users\\yibor\\appdata\\local\\anaconda3\\envs\\myenv\\lib\\site-packages (from awscli) (1.35.29)\n",
      "Requirement already satisfied: docutils<0.17,>=0.10 in c:\\users\\yibor\\appdata\\local\\anaconda3\\envs\\myenv\\lib\\site-packages (from awscli) (0.16)\n",
      "Requirement already satisfied: s3transfer<0.11.0,>=0.10.0 in c:\\users\\yibor\\appdata\\local\\anaconda3\\envs\\myenv\\lib\\site-packages (from awscli) (0.10.2)\n",
      "Requirement already satisfied: PyYAML<6.1,>=3.10 in c:\\users\\yibor\\appdata\\local\\anaconda3\\envs\\myenv\\lib\\site-packages (from awscli) (6.0.2)\n",
      "Requirement already satisfied: colorama<0.4.7,>=0.2.5 in c:\\users\\yibor\\appdata\\local\\anaconda3\\envs\\myenv\\lib\\site-packages (from awscli) (0.4.6)\n",
      "Requirement already satisfied: rsa<4.8,>=3.1.2 in c:\\users\\yibor\\appdata\\local\\anaconda3\\envs\\myenv\\lib\\site-packages (from awscli) (4.7.2)\n",
      "Requirement already satisfied: jmespath<2.0.0,>=0.7.1 in c:\\users\\yibor\\appdata\\local\\anaconda3\\envs\\myenv\\lib\\site-packages (from botocore==1.35.29->awscli) (1.0.1)\n",
      "Requirement already satisfied: python-dateutil<3.0.0,>=2.1 in c:\\users\\yibor\\appdata\\local\\anaconda3\\envs\\myenv\\lib\\site-packages (from botocore==1.35.29->awscli) (2.9.0.post0)\n",
      "Requirement already satisfied: urllib3<1.27,>=1.25.4 in c:\\users\\yibor\\appdata\\local\\anaconda3\\envs\\myenv\\lib\\site-packages (from botocore==1.35.29->awscli) (1.26.20)\n",
      "Requirement already satisfied: pyasn1>=0.1.3 in c:\\users\\yibor\\appdata\\local\\anaconda3\\envs\\myenv\\lib\\site-packages (from rsa<4.8,>=3.1.2->awscli) (0.6.1)\n",
      "Requirement already satisfied: six>=1.5 in c:\\users\\yibor\\appdata\\local\\anaconda3\\envs\\myenv\\lib\\site-packages (from python-dateutil<3.0.0,>=2.1->botocore==1.35.29->awscli) (1.16.0)\n",
      "Collecting python-dotenv\n",
      "  Downloading python_dotenv-1.0.1-py3-none-any.whl.metadata (23 kB)\n",
      "Downloading python_dotenv-1.0.1-py3-none-any.whl (19 kB)\n",
      "Installing collected packages: python-dotenv\n",
      "Successfully installed python-dotenv-1.0.1\n"
     ]
    }
   ],
   "source": [
    "!pip install boto3\n",
    "!pip install awscli\n",
    "!pip install python-dotenv\n"
   ]
  },
  {
   "cell_type": "code",
   "execution_count": 2,
   "metadata": {},
   "outputs": [
    {
     "name": "stdout",
     "output_type": "stream",
     "text": [
      "aws-cli/1.34.29 Python/3.9.19 Windows/10 botocore/1.35.29\n"
     ]
    },
    {
     "name": "stderr",
     "output_type": "stream",
     "text": [
      "File association not found for extension .py\n"
     ]
    }
   ],
   "source": [
    "!aws --version"
   ]
  },
  {
   "cell_type": "code",
   "execution_count": 8,
   "metadata": {},
   "outputs": [
    {
     "name": "stdout",
     "output_type": "stream",
     "text": [
      "Audio saved to C:\\Users\\yibor\\polly_speech.mp3\n"
     ]
    }
   ],
   "source": [
    "\"\"\"Author: yassine ibork\"\"\"\n",
    "import boto3\n",
    "import os\n",
    "from dotenv import load_dotenv\n",
    "load_dotenv()\n",
    "# these are my own credentials that I load from the .env file for security measures I will not push it to github, if you want to run this code, make sure to have your own credentials in your .env file\n",
    "aws_access_key_id = os.getenv('AWS_ACCESS_KEY_ID')\n",
    "aws_secret_access_key = os.getenv('AWS_SECRET_ACCESS_KEY')\n",
    "aws_region = os.getenv('AWS_REGION', 'us-west-2')\n",
    "\n",
    "# Initialize a session using Amazon Polly\n",
    "session = boto3.Session(\n",
    "    aws_access_key_id=aws_access_key_id,\n",
    "    aws_secret_access_key=aws_secret_access_key,\n",
    "    region_name=aws_region\n",
    ")\n",
    "\n",
    "# Initialize the Polly client\n",
    "polly = session.client('polly')\n",
    "\n",
    "text = \"Text-to-Speech (TTS) is a technology that converts written text into spoken words. It uses algorithms and voice synthesis techniques to produce speech that can be either robotic or human-like, depending on the quality of the synthesis engine. TTS systems are used in various applications, such as reading content aloud for people with visual impairments, voice assistants (e.g., Amazon Alexa, Google Assistant), and automated customer service. TTS solutions typically allow customization of language, voice type, speed, and tone, enabling more natural and context-appropriate audio output.\"\n",
    "\n",
    "# Call Amazon Polly to synthesize the speech\n",
    "response = polly.synthesize_speech(\n",
    "    Text=text,\n",
    "    OutputFormat='mp3',\n",
    "    # VoiceId='Raveena',\n",
    "    VoiceId='Nicole'\n",
    ")\n",
    "\n",
    "# Save the audio stream returned by Amazon Polly\n",
    "audio_file_path = os.path.join(os.path.expanduser(\"~\"), \"polly_speech.mp3\")\n",
    "\n",
    "# Check if the response contains audio stream\n",
    "if 'AudioStream' in response:\n",
    "    with open(audio_file_path, 'wb') as audio_file:\n",
    "        audio_file.write(response['AudioStream'].read())\n",
    "    print(f\"Audio saved to {audio_file_path}\")\n",
    "else:\n",
    "    print(\"Could not synthesize speech.\")\n"
   ]
  }
 ],
 "metadata": {
  "kernelspec": {
   "display_name": "myenv",
   "language": "python",
   "name": "python3"
  },
  "language_info": {
   "codemirror_mode": {
    "name": "ipython",
    "version": 3
   },
   "file_extension": ".py",
   "mimetype": "text/x-python",
   "name": "python",
   "nbconvert_exporter": "python",
   "pygments_lexer": "ipython3",
   "version": "3.9.19"
  }
 },
 "nbformat": 4,
 "nbformat_minor": 2
}
